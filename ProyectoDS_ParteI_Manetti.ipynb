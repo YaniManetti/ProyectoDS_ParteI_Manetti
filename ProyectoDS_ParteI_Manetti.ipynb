{
  "nbformat": 4,
  "nbformat_minor": 0,
  "metadata": {
    "colab": {
      "provenance": [],
      "authorship_tag": "ABX9TyMtSt/0uHMEIZmw59Xx14V1",
      "include_colab_link": true
    },
    "kernelspec": {
      "name": "python3",
      "display_name": "Python 3"
    },
    "language_info": {
      "name": "python"
    }
  },
  "cells": [
    {
      "cell_type": "markdown",
      "metadata": {
        "id": "view-in-github",
        "colab_type": "text"
      },
      "source": [
        "<a href=\"https://colab.research.google.com/github/YaniManetti/ProyectoDS_ParteI_Manetti/blob/main/ProyectoDS_ParteI_Manetti.ipynb\" target=\"_parent\"><img src=\"https://colab.research.google.com/assets/colab-badge.svg\" alt=\"Open In Colab\"/></a>"
      ]
    },
    {
      "cell_type": "markdown",
      "source": [
        "**Bienvenidos!**\n",
        "En este Proyecto vamos a analizar la **deserción de clientes de un Banco**.\n",
        "Todos los bancos quieren mantener a sus clientes para mantener su negocio\n",
        "\n",
        "**OBJETIVO:**\n",
        "\n",
        "El objetivo principal consiste en aprovechar este conjunto de datos para construir un modelo predictivo capaz de anticipar con precisión la probabilidad de que un cliente abandone el banco, basándose en sus características individuales. Esto permitiría diseñar estrategias específicas orientadas a retener a clientes con mayor riesgo de rotación.\n",
        "\n",
        "**PREGUNTAS E HIPÓTESIS:**\n",
        "\n",
        "**1- ¿Qué características demográficas (edad, género, ubicación) están asociadas con una mayor probabilidad de abandono?**\n",
        "\n",
        "Hipótesis:\n",
        "\n",
        "- Los clientes más jóvenes tienen una mayor probabilidad de abandono debido a su menor fidelidad hacia las instituciones financieras.\n",
        "- No existen diferencias significativas en la tasa de abandono entre géneros.\n",
        "- Los clientes que residen en España presentan una mayor tasa de abandono en comparación con los de Francia y Alemania, posiblemente debido a diferencias en la competencia bancaria o características socioeconómicas propias del país\n",
        "\n",
        "**2 - ¿Cómo influye el salario o el saldo promedio de la cuenta en la decisión de abandonar el banco?**\n",
        "\n",
        "Hipótesis:\n",
        "\n",
        "- Los clientes con salarios más bajos tienen mayor probabilidad de abandono, ya que pueden percibir mayores dificultades para mantener productos financieros\n",
        "- Los clientes con saldos promedio bajos tienen mayor riesgo de rotación, ya que podrían estar menos comprometidos con el banco.\n",
        "- Los clientes con saldos altos tienen menor probabilidad de abandono, ya que suelen tener una relación más estable con el banco.\n",
        "\n",
        "**3 - ¿Los clientes con productos financieros como tarjetas de crédito, tienen menor riesgo de abandono?**\n",
        "\n",
        "Hipótesis:\n",
        "\n",
        "- Los clientes que poseen tarjetas de crédito tienen menor probabilidad de abandono, ya que estos productos generan una relación más activa con el banco.\n",
        "\n",
        "**4 - ¿Hay diferencias significativas en la rotación según el tiempo que el cliente lleva con el banco?**\n",
        "\n",
        "Hipótesis:\n",
        "\n",
        "- Los clientes con menor antigüedad tienen mayor probabilidad de abandono, ya que aún no han desarrollado una relación sólida con el banco.\n",
        "- Los clientes con mayor antigüedad tienen menor riesgo de rotación debido a su fidelidad y confianza acumulada en la institución.\n",
        "- La tasa de abandono disminuye progresivamente con el tiempo que el cliente lleva en el banco.\n",
        "\n",
        "**5 - ¿Cómo influye la puntuación de crédito en la probabilidad de que un cliente abandone el banco?**\n",
        "\n",
        "Hipótesis:\n",
        "\n",
        "- Los clientes con puntuaciones de crédito más bajas tienen una mayor probabilidad de abandonar el banco, ya que podrían enfrentar mayores dificultades financieras o recibir menos beneficios de la entidad bancaria.\n"
      ],
      "metadata": {
        "id": "omx20RyC1lfE"
      }
    },
    {
      "cell_type": "markdown",
      "source": [
        "*Dato a tener en cuenta:*\n",
        "\n",
        "*   TieneTarjeta: (1 para Sí, 0 para No)\n",
        "*   EsMiembroActivo: (1 para Sí, 0 para No)\n",
        "*   Destino: Si el cliente salió del banco (1 para Sí, 0 para No)"
      ],
      "metadata": {
        "id": "AUdk1XpSGX8G"
      }
    },
    {
      "cell_type": "code",
      "source": [
        "import pandas as pd"
      ],
      "metadata": {
        "id": "IHbcqkbV7mn2"
      },
      "execution_count": 7,
      "outputs": []
    },
    {
      "cell_type": "code",
      "source": [
        "url = 'https://raw.githubusercontent.com/YaniManetti/ProyectoDS_ParteI_Manetti/main/Desercion_Clientes_Banco.csv'\n",
        "df = pd.read_csv(url, encoding='latin1')\n",
        "\n",
        "df.head()"
      ],
      "metadata": {
        "colab": {
          "base_uri": "https://localhost:8080/",
          "height": 206
        },
        "id": "DW3u61n2-KRY",
        "outputId": "20c25cf3-32d7-46e2-d954-1e2d9db53cec"
      },
      "execution_count": 8,
      "outputs": [
        {
          "output_type": "execute_result",
          "data": {
            "text/plain": [
              "   ID  ID_Cliente  Apellido  Puntuacion_Credito     Pais    Genero  Edad  \\\n",
              "0   1    15634602  Hargrave                 619  Francia  Femenino    42   \n",
              "1   2    15647311      Hill                 608   España  Femenino    41   \n",
              "2   3    15619304      Onio                 502  Francia  Femenino    42   \n",
              "3   4    15701354      Boni                 699  Francia  Femenino    39   \n",
              "4   5    15737888  Mitchell                 850   España  Femenino    43   \n",
              "\n",
              "   Tenencia      Saldo  NumProductos  TieneTarjeta  EsMiembroActivo  \\\n",
              "0         2       0.00             1             1                1   \n",
              "1         1   83807.86             1             0                1   \n",
              "2         8  159660.80             3             1                0   \n",
              "3         1       0.00             2             0                0   \n",
              "4         2  125510.82             1             1                1   \n",
              "\n",
              "   SalarioEstimado  Destino  \n",
              "0        101348.88        1  \n",
              "1        112542.58        0  \n",
              "2        113931.57        1  \n",
              "3         93826.63        0  \n",
              "4         79084.10        0  "
            ],
            "text/html": [
              "\n",
              "  <div id=\"df-04a0565f-e970-473b-83cf-54a26174948c\" class=\"colab-df-container\">\n",
              "    <div>\n",
              "<style scoped>\n",
              "    .dataframe tbody tr th:only-of-type {\n",
              "        vertical-align: middle;\n",
              "    }\n",
              "\n",
              "    .dataframe tbody tr th {\n",
              "        vertical-align: top;\n",
              "    }\n",
              "\n",
              "    .dataframe thead th {\n",
              "        text-align: right;\n",
              "    }\n",
              "</style>\n",
              "<table border=\"1\" class=\"dataframe\">\n",
              "  <thead>\n",
              "    <tr style=\"text-align: right;\">\n",
              "      <th></th>\n",
              "      <th>ID</th>\n",
              "      <th>ID_Cliente</th>\n",
              "      <th>Apellido</th>\n",
              "      <th>Puntuacion_Credito</th>\n",
              "      <th>Pais</th>\n",
              "      <th>Genero</th>\n",
              "      <th>Edad</th>\n",
              "      <th>Tenencia</th>\n",
              "      <th>Saldo</th>\n",
              "      <th>NumProductos</th>\n",
              "      <th>TieneTarjeta</th>\n",
              "      <th>EsMiembroActivo</th>\n",
              "      <th>SalarioEstimado</th>\n",
              "      <th>Destino</th>\n",
              "    </tr>\n",
              "  </thead>\n",
              "  <tbody>\n",
              "    <tr>\n",
              "      <th>0</th>\n",
              "      <td>1</td>\n",
              "      <td>15634602</td>\n",
              "      <td>Hargrave</td>\n",
              "      <td>619</td>\n",
              "      <td>Francia</td>\n",
              "      <td>Femenino</td>\n",
              "      <td>42</td>\n",
              "      <td>2</td>\n",
              "      <td>0.00</td>\n",
              "      <td>1</td>\n",
              "      <td>1</td>\n",
              "      <td>1</td>\n",
              "      <td>101348.88</td>\n",
              "      <td>1</td>\n",
              "    </tr>\n",
              "    <tr>\n",
              "      <th>1</th>\n",
              "      <td>2</td>\n",
              "      <td>15647311</td>\n",
              "      <td>Hill</td>\n",
              "      <td>608</td>\n",
              "      <td>España</td>\n",
              "      <td>Femenino</td>\n",
              "      <td>41</td>\n",
              "      <td>1</td>\n",
              "      <td>83807.86</td>\n",
              "      <td>1</td>\n",
              "      <td>0</td>\n",
              "      <td>1</td>\n",
              "      <td>112542.58</td>\n",
              "      <td>0</td>\n",
              "    </tr>\n",
              "    <tr>\n",
              "      <th>2</th>\n",
              "      <td>3</td>\n",
              "      <td>15619304</td>\n",
              "      <td>Onio</td>\n",
              "      <td>502</td>\n",
              "      <td>Francia</td>\n",
              "      <td>Femenino</td>\n",
              "      <td>42</td>\n",
              "      <td>8</td>\n",
              "      <td>159660.80</td>\n",
              "      <td>3</td>\n",
              "      <td>1</td>\n",
              "      <td>0</td>\n",
              "      <td>113931.57</td>\n",
              "      <td>1</td>\n",
              "    </tr>\n",
              "    <tr>\n",
              "      <th>3</th>\n",
              "      <td>4</td>\n",
              "      <td>15701354</td>\n",
              "      <td>Boni</td>\n",
              "      <td>699</td>\n",
              "      <td>Francia</td>\n",
              "      <td>Femenino</td>\n",
              "      <td>39</td>\n",
              "      <td>1</td>\n",
              "      <td>0.00</td>\n",
              "      <td>2</td>\n",
              "      <td>0</td>\n",
              "      <td>0</td>\n",
              "      <td>93826.63</td>\n",
              "      <td>0</td>\n",
              "    </tr>\n",
              "    <tr>\n",
              "      <th>4</th>\n",
              "      <td>5</td>\n",
              "      <td>15737888</td>\n",
              "      <td>Mitchell</td>\n",
              "      <td>850</td>\n",
              "      <td>España</td>\n",
              "      <td>Femenino</td>\n",
              "      <td>43</td>\n",
              "      <td>2</td>\n",
              "      <td>125510.82</td>\n",
              "      <td>1</td>\n",
              "      <td>1</td>\n",
              "      <td>1</td>\n",
              "      <td>79084.10</td>\n",
              "      <td>0</td>\n",
              "    </tr>\n",
              "  </tbody>\n",
              "</table>\n",
              "</div>\n",
              "    <div class=\"colab-df-buttons\">\n",
              "\n",
              "  <div class=\"colab-df-container\">\n",
              "    <button class=\"colab-df-convert\" onclick=\"convertToInteractive('df-04a0565f-e970-473b-83cf-54a26174948c')\"\n",
              "            title=\"Convert this dataframe to an interactive table.\"\n",
              "            style=\"display:none;\">\n",
              "\n",
              "  <svg xmlns=\"http://www.w3.org/2000/svg\" height=\"24px\" viewBox=\"0 -960 960 960\">\n",
              "    <path d=\"M120-120v-720h720v720H120Zm60-500h600v-160H180v160Zm220 220h160v-160H400v160Zm0 220h160v-160H400v160ZM180-400h160v-160H180v160Zm440 0h160v-160H620v160ZM180-180h160v-160H180v160Zm440 0h160v-160H620v160Z\"/>\n",
              "  </svg>\n",
              "    </button>\n",
              "\n",
              "  <style>\n",
              "    .colab-df-container {\n",
              "      display:flex;\n",
              "      gap: 12px;\n",
              "    }\n",
              "\n",
              "    .colab-df-convert {\n",
              "      background-color: #E8F0FE;\n",
              "      border: none;\n",
              "      border-radius: 50%;\n",
              "      cursor: pointer;\n",
              "      display: none;\n",
              "      fill: #1967D2;\n",
              "      height: 32px;\n",
              "      padding: 0 0 0 0;\n",
              "      width: 32px;\n",
              "    }\n",
              "\n",
              "    .colab-df-convert:hover {\n",
              "      background-color: #E2EBFA;\n",
              "      box-shadow: 0px 1px 2px rgba(60, 64, 67, 0.3), 0px 1px 3px 1px rgba(60, 64, 67, 0.15);\n",
              "      fill: #174EA6;\n",
              "    }\n",
              "\n",
              "    .colab-df-buttons div {\n",
              "      margin-bottom: 4px;\n",
              "    }\n",
              "\n",
              "    [theme=dark] .colab-df-convert {\n",
              "      background-color: #3B4455;\n",
              "      fill: #D2E3FC;\n",
              "    }\n",
              "\n",
              "    [theme=dark] .colab-df-convert:hover {\n",
              "      background-color: #434B5C;\n",
              "      box-shadow: 0px 1px 3px 1px rgba(0, 0, 0, 0.15);\n",
              "      filter: drop-shadow(0px 1px 2px rgba(0, 0, 0, 0.3));\n",
              "      fill: #FFFFFF;\n",
              "    }\n",
              "  </style>\n",
              "\n",
              "    <script>\n",
              "      const buttonEl =\n",
              "        document.querySelector('#df-04a0565f-e970-473b-83cf-54a26174948c button.colab-df-convert');\n",
              "      buttonEl.style.display =\n",
              "        google.colab.kernel.accessAllowed ? 'block' : 'none';\n",
              "\n",
              "      async function convertToInteractive(key) {\n",
              "        const element = document.querySelector('#df-04a0565f-e970-473b-83cf-54a26174948c');\n",
              "        const dataTable =\n",
              "          await google.colab.kernel.invokeFunction('convertToInteractive',\n",
              "                                                    [key], {});\n",
              "        if (!dataTable) return;\n",
              "\n",
              "        const docLinkHtml = 'Like what you see? Visit the ' +\n",
              "          '<a target=\"_blank\" href=https://colab.research.google.com/notebooks/data_table.ipynb>data table notebook</a>'\n",
              "          + ' to learn more about interactive tables.';\n",
              "        element.innerHTML = '';\n",
              "        dataTable['output_type'] = 'display_data';\n",
              "        await google.colab.output.renderOutput(dataTable, element);\n",
              "        const docLink = document.createElement('div');\n",
              "        docLink.innerHTML = docLinkHtml;\n",
              "        element.appendChild(docLink);\n",
              "      }\n",
              "    </script>\n",
              "  </div>\n",
              "\n",
              "\n",
              "    <div id=\"df-b4327f3d-14ba-402f-9de4-43a2ff6b2c43\">\n",
              "      <button class=\"colab-df-quickchart\" onclick=\"quickchart('df-b4327f3d-14ba-402f-9de4-43a2ff6b2c43')\"\n",
              "                title=\"Suggest charts\"\n",
              "                style=\"display:none;\">\n",
              "\n",
              "<svg xmlns=\"http://www.w3.org/2000/svg\" height=\"24px\"viewBox=\"0 0 24 24\"\n",
              "     width=\"24px\">\n",
              "    <g>\n",
              "        <path d=\"M19 3H5c-1.1 0-2 .9-2 2v14c0 1.1.9 2 2 2h14c1.1 0 2-.9 2-2V5c0-1.1-.9-2-2-2zM9 17H7v-7h2v7zm4 0h-2V7h2v10zm4 0h-2v-4h2v4z\"/>\n",
              "    </g>\n",
              "</svg>\n",
              "      </button>\n",
              "\n",
              "<style>\n",
              "  .colab-df-quickchart {\n",
              "      --bg-color: #E8F0FE;\n",
              "      --fill-color: #1967D2;\n",
              "      --hover-bg-color: #E2EBFA;\n",
              "      --hover-fill-color: #174EA6;\n",
              "      --disabled-fill-color: #AAA;\n",
              "      --disabled-bg-color: #DDD;\n",
              "  }\n",
              "\n",
              "  [theme=dark] .colab-df-quickchart {\n",
              "      --bg-color: #3B4455;\n",
              "      --fill-color: #D2E3FC;\n",
              "      --hover-bg-color: #434B5C;\n",
              "      --hover-fill-color: #FFFFFF;\n",
              "      --disabled-bg-color: #3B4455;\n",
              "      --disabled-fill-color: #666;\n",
              "  }\n",
              "\n",
              "  .colab-df-quickchart {\n",
              "    background-color: var(--bg-color);\n",
              "    border: none;\n",
              "    border-radius: 50%;\n",
              "    cursor: pointer;\n",
              "    display: none;\n",
              "    fill: var(--fill-color);\n",
              "    height: 32px;\n",
              "    padding: 0;\n",
              "    width: 32px;\n",
              "  }\n",
              "\n",
              "  .colab-df-quickchart:hover {\n",
              "    background-color: var(--hover-bg-color);\n",
              "    box-shadow: 0 1px 2px rgba(60, 64, 67, 0.3), 0 1px 3px 1px rgba(60, 64, 67, 0.15);\n",
              "    fill: var(--button-hover-fill-color);\n",
              "  }\n",
              "\n",
              "  .colab-df-quickchart-complete:disabled,\n",
              "  .colab-df-quickchart-complete:disabled:hover {\n",
              "    background-color: var(--disabled-bg-color);\n",
              "    fill: var(--disabled-fill-color);\n",
              "    box-shadow: none;\n",
              "  }\n",
              "\n",
              "  .colab-df-spinner {\n",
              "    border: 2px solid var(--fill-color);\n",
              "    border-color: transparent;\n",
              "    border-bottom-color: var(--fill-color);\n",
              "    animation:\n",
              "      spin 1s steps(1) infinite;\n",
              "  }\n",
              "\n",
              "  @keyframes spin {\n",
              "    0% {\n",
              "      border-color: transparent;\n",
              "      border-bottom-color: var(--fill-color);\n",
              "      border-left-color: var(--fill-color);\n",
              "    }\n",
              "    20% {\n",
              "      border-color: transparent;\n",
              "      border-left-color: var(--fill-color);\n",
              "      border-top-color: var(--fill-color);\n",
              "    }\n",
              "    30% {\n",
              "      border-color: transparent;\n",
              "      border-left-color: var(--fill-color);\n",
              "      border-top-color: var(--fill-color);\n",
              "      border-right-color: var(--fill-color);\n",
              "    }\n",
              "    40% {\n",
              "      border-color: transparent;\n",
              "      border-right-color: var(--fill-color);\n",
              "      border-top-color: var(--fill-color);\n",
              "    }\n",
              "    60% {\n",
              "      border-color: transparent;\n",
              "      border-right-color: var(--fill-color);\n",
              "    }\n",
              "    80% {\n",
              "      border-color: transparent;\n",
              "      border-right-color: var(--fill-color);\n",
              "      border-bottom-color: var(--fill-color);\n",
              "    }\n",
              "    90% {\n",
              "      border-color: transparent;\n",
              "      border-bottom-color: var(--fill-color);\n",
              "    }\n",
              "  }\n",
              "</style>\n",
              "\n",
              "      <script>\n",
              "        async function quickchart(key) {\n",
              "          const quickchartButtonEl =\n",
              "            document.querySelector('#' + key + ' button');\n",
              "          quickchartButtonEl.disabled = true;  // To prevent multiple clicks.\n",
              "          quickchartButtonEl.classList.add('colab-df-spinner');\n",
              "          try {\n",
              "            const charts = await google.colab.kernel.invokeFunction(\n",
              "                'suggestCharts', [key], {});\n",
              "          } catch (error) {\n",
              "            console.error('Error during call to suggestCharts:', error);\n",
              "          }\n",
              "          quickchartButtonEl.classList.remove('colab-df-spinner');\n",
              "          quickchartButtonEl.classList.add('colab-df-quickchart-complete');\n",
              "        }\n",
              "        (() => {\n",
              "          let quickchartButtonEl =\n",
              "            document.querySelector('#df-b4327f3d-14ba-402f-9de4-43a2ff6b2c43 button');\n",
              "          quickchartButtonEl.style.display =\n",
              "            google.colab.kernel.accessAllowed ? 'block' : 'none';\n",
              "        })();\n",
              "      </script>\n",
              "    </div>\n",
              "\n",
              "    </div>\n",
              "  </div>\n"
            ],
            "application/vnd.google.colaboratory.intrinsic+json": {
              "type": "dataframe",
              "variable_name": "df",
              "summary": "{\n  \"name\": \"df\",\n  \"rows\": 10000,\n  \"fields\": [\n    {\n      \"column\": \"ID\",\n      \"properties\": {\n        \"dtype\": \"number\",\n        \"std\": 2886,\n        \"min\": 1,\n        \"max\": 10000,\n        \"num_unique_values\": 10000,\n        \"samples\": [\n          6253,\n          4685,\n          1732\n        ],\n        \"semantic_type\": \"\",\n        \"description\": \"\"\n      }\n    },\n    {\n      \"column\": \"ID_Cliente\",\n      \"properties\": {\n        \"dtype\": \"number\",\n        \"std\": 71936,\n        \"min\": 15565701,\n        \"max\": 15815690,\n        \"num_unique_values\": 10000,\n        \"samples\": [\n          15687492,\n          15736963,\n          15721730\n        ],\n        \"semantic_type\": \"\",\n        \"description\": \"\"\n      }\n    },\n    {\n      \"column\": \"Apellido\",\n      \"properties\": {\n        \"dtype\": \"category\",\n        \"num_unique_values\": 2932,\n        \"samples\": [\n          \"McGuirk\",\n          \"Torkelson\",\n          \"Rapuluchukwu\"\n        ],\n        \"semantic_type\": \"\",\n        \"description\": \"\"\n      }\n    },\n    {\n      \"column\": \"Puntuacion_Credito\",\n      \"properties\": {\n        \"dtype\": \"number\",\n        \"std\": 96,\n        \"min\": 350,\n        \"max\": 850,\n        \"num_unique_values\": 460,\n        \"samples\": [\n          754,\n          533,\n          744\n        ],\n        \"semantic_type\": \"\",\n        \"description\": \"\"\n      }\n    },\n    {\n      \"column\": \"Pais\",\n      \"properties\": {\n        \"dtype\": \"category\",\n        \"num_unique_values\": 3,\n        \"samples\": [\n          \"Francia\",\n          \"Espa\\u00f1a\",\n          \"Alemania\"\n        ],\n        \"semantic_type\": \"\",\n        \"description\": \"\"\n      }\n    },\n    {\n      \"column\": \"Genero\",\n      \"properties\": {\n        \"dtype\": \"category\",\n        \"num_unique_values\": 2,\n        \"samples\": [\n          \"Masculino\",\n          \"Femenino\"\n        ],\n        \"semantic_type\": \"\",\n        \"description\": \"\"\n      }\n    },\n    {\n      \"column\": \"Edad\",\n      \"properties\": {\n        \"dtype\": \"number\",\n        \"std\": 10,\n        \"min\": 18,\n        \"max\": 92,\n        \"num_unique_values\": 70,\n        \"samples\": [\n          61,\n          42\n        ],\n        \"semantic_type\": \"\",\n        \"description\": \"\"\n      }\n    },\n    {\n      \"column\": \"Tenencia\",\n      \"properties\": {\n        \"dtype\": \"number\",\n        \"std\": 2,\n        \"min\": 0,\n        \"max\": 10,\n        \"num_unique_values\": 11,\n        \"samples\": [\n          6,\n          2\n        ],\n        \"semantic_type\": \"\",\n        \"description\": \"\"\n      }\n    },\n    {\n      \"column\": \"Saldo\",\n      \"properties\": {\n        \"dtype\": \"number\",\n        \"std\": 62397.40520238623,\n        \"min\": 0.0,\n        \"max\": 250898.09,\n        \"num_unique_values\": 6382,\n        \"samples\": [\n          117707.18,\n          133050.97\n        ],\n        \"semantic_type\": \"\",\n        \"description\": \"\"\n      }\n    },\n    {\n      \"column\": \"NumProductos\",\n      \"properties\": {\n        \"dtype\": \"number\",\n        \"std\": 0,\n        \"min\": 1,\n        \"max\": 4,\n        \"num_unique_values\": 4,\n        \"samples\": [\n          3,\n          4\n        ],\n        \"semantic_type\": \"\",\n        \"description\": \"\"\n      }\n    },\n    {\n      \"column\": \"TieneTarjeta\",\n      \"properties\": {\n        \"dtype\": \"number\",\n        \"std\": 0,\n        \"min\": 0,\n        \"max\": 1,\n        \"num_unique_values\": 2,\n        \"samples\": [\n          0,\n          1\n        ],\n        \"semantic_type\": \"\",\n        \"description\": \"\"\n      }\n    },\n    {\n      \"column\": \"EsMiembroActivo\",\n      \"properties\": {\n        \"dtype\": \"number\",\n        \"std\": 0,\n        \"min\": 0,\n        \"max\": 1,\n        \"num_unique_values\": 2,\n        \"samples\": [\n          0,\n          1\n        ],\n        \"semantic_type\": \"\",\n        \"description\": \"\"\n      }\n    },\n    {\n      \"column\": \"SalarioEstimado\",\n      \"properties\": {\n        \"dtype\": \"number\",\n        \"std\": 57510.49281769822,\n        \"min\": 11.58,\n        \"max\": 199992.48,\n        \"num_unique_values\": 9999,\n        \"samples\": [\n          100809.99,\n          95273.73\n        ],\n        \"semantic_type\": \"\",\n        \"description\": \"\"\n      }\n    },\n    {\n      \"column\": \"Destino\",\n      \"properties\": {\n        \"dtype\": \"number\",\n        \"std\": 0,\n        \"min\": 0,\n        \"max\": 1,\n        \"num_unique_values\": 2,\n        \"samples\": [\n          0,\n          1\n        ],\n        \"semantic_type\": \"\",\n        \"description\": \"\"\n      }\n    }\n  ]\n}"
            }
          },
          "metadata": {},
          "execution_count": 8
        }
      ]
    },
    {
      "cell_type": "code",
      "source": [
        "print(df)"
      ],
      "metadata": {
        "colab": {
          "base_uri": "https://localhost:8080/"
        },
        "id": "-Agd9yY5Dmck",
        "outputId": "2974f23b-f378-46a2-d8a1-043c6553910f"
      },
      "execution_count": 9,
      "outputs": [
        {
          "output_type": "stream",
          "name": "stdout",
          "text": [
            "         ID  ID_Cliente   Apellido  Puntuacion_Credito      Pais     Genero  \\\n",
            "0         1    15634602   Hargrave                 619   Francia   Femenino   \n",
            "1         2    15647311       Hill                 608    España   Femenino   \n",
            "2         3    15619304       Onio                 502   Francia   Femenino   \n",
            "3         4    15701354       Boni                 699   Francia   Femenino   \n",
            "4         5    15737888   Mitchell                 850    España   Femenino   \n",
            "...     ...         ...        ...                 ...       ...        ...   \n",
            "9995   9996    15606229   Obijiaku                 771   Francia  Masculino   \n",
            "9996   9997    15569892  Johnstone                 516   Francia  Masculino   \n",
            "9997   9998    15584532        Liu                 709   Francia   Femenino   \n",
            "9998   9999    15682355  Sabbatini                 772  Alemania  Masculino   \n",
            "9999  10000    15628319     Walker                 792   Francia   Femenino   \n",
            "\n",
            "      Edad  Tenencia      Saldo  NumProductos  TieneTarjeta  EsMiembroActivo  \\\n",
            "0       42         2       0.00             1             1                1   \n",
            "1       41         1   83807.86             1             0                1   \n",
            "2       42         8  159660.80             3             1                0   \n",
            "3       39         1       0.00             2             0                0   \n",
            "4       43         2  125510.82             1             1                1   \n",
            "...    ...       ...        ...           ...           ...              ...   \n",
            "9995    39         5       0.00             2             1                0   \n",
            "9996    35        10   57369.61             1             1                1   \n",
            "9997    36         7       0.00             1             0                1   \n",
            "9998    42         3   75075.31             2             1                0   \n",
            "9999    28         4  130142.79             1             1                0   \n",
            "\n",
            "      SalarioEstimado  Destino  \n",
            "0           101348.88        1  \n",
            "1           112542.58        0  \n",
            "2           113931.57        1  \n",
            "3            93826.63        0  \n",
            "4            79084.10        0  \n",
            "...               ...      ...  \n",
            "9995         96270.64        0  \n",
            "9996        101699.77        0  \n",
            "9997         42085.58        1  \n",
            "9998         92888.52        1  \n",
            "9999         38190.78        0  \n",
            "\n",
            "[10000 rows x 14 columns]\n"
          ]
        }
      ]
    },
    {
      "cell_type": "markdown",
      "source": [
        "*Vemos las dimensiones del Dataframe*"
      ],
      "metadata": {
        "id": "GO9a-MEUC4uy"
      }
    },
    {
      "cell_type": "code",
      "source": [
        "print(df.shape)"
      ],
      "metadata": {
        "colab": {
          "base_uri": "https://localhost:8080/"
        },
        "id": "xcOwe-kwANej",
        "outputId": "19117ea2-2030-42c7-ecf1-5d9c89d78429"
      },
      "execution_count": 10,
      "outputs": [
        {
          "output_type": "stream",
          "name": "stdout",
          "text": [
            "(10000, 14)\n"
          ]
        }
      ]
    },
    {
      "cell_type": "markdown",
      "source": [
        "*Verificamos la informacion y si tiene datos nulos*"
      ],
      "metadata": {
        "id": "2-Geh8nuC-9f"
      }
    },
    {
      "cell_type": "code",
      "source": [
        "print(df.info())"
      ],
      "metadata": {
        "colab": {
          "base_uri": "https://localhost:8080/"
        },
        "id": "ZDUNS4FdE2xv",
        "outputId": "39fd653e-ef15-485f-bbb8-e54fd1b98e52"
      },
      "execution_count": 11,
      "outputs": [
        {
          "output_type": "stream",
          "name": "stdout",
          "text": [
            "<class 'pandas.core.frame.DataFrame'>\n",
            "RangeIndex: 10000 entries, 0 to 9999\n",
            "Data columns (total 14 columns):\n",
            " #   Column              Non-Null Count  Dtype  \n",
            "---  ------              --------------  -----  \n",
            " 0   ID                  10000 non-null  int64  \n",
            " 1   ID_Cliente          10000 non-null  int64  \n",
            " 2   Apellido            10000 non-null  object \n",
            " 3   Puntuacion_Credito  10000 non-null  int64  \n",
            " 4   Pais                10000 non-null  object \n",
            " 5   Genero              10000 non-null  object \n",
            " 6   Edad                10000 non-null  int64  \n",
            " 7   Tenencia            10000 non-null  int64  \n",
            " 8   Saldo               10000 non-null  float64\n",
            " 9   NumProductos        10000 non-null  int64  \n",
            " 10  TieneTarjeta        10000 non-null  int64  \n",
            " 11  EsMiembroActivo     10000 non-null  int64  \n",
            " 12  SalarioEstimado     10000 non-null  float64\n",
            " 13  Destino             10000 non-null  int64  \n",
            "dtypes: float64(2), int64(9), object(3)\n",
            "memory usage: 1.1+ MB\n",
            "None\n"
          ]
        }
      ]
    },
    {
      "cell_type": "markdown",
      "source": [
        "*Verificamos que no tiene datos nulos*"
      ],
      "metadata": {
        "id": "csgevwTGDHYR"
      }
    },
    {
      "cell_type": "code",
      "source": [
        "print(df.isnull().sum())"
      ],
      "metadata": {
        "colab": {
          "base_uri": "https://localhost:8080/"
        },
        "id": "5jmhkmo3C6Nz",
        "outputId": "d70559f9-7247-45df-9964-59cdf080383d"
      },
      "execution_count": 12,
      "outputs": [
        {
          "output_type": "stream",
          "name": "stdout",
          "text": [
            "ID                    0\n",
            "ID_Cliente            0\n",
            "Apellido              0\n",
            "Puntuacion_Credito    0\n",
            "Pais                  0\n",
            "Genero                0\n",
            "Edad                  0\n",
            "Tenencia              0\n",
            "Saldo                 0\n",
            "NumProductos          0\n",
            "TieneTarjeta          0\n",
            "EsMiembroActivo       0\n",
            "SalarioEstimado       0\n",
            "Destino               0\n",
            "dtype: int64\n"
          ]
        }
      ]
    },
    {
      "cell_type": "markdown",
      "source": [
        "*Vemos la descripcion de los valores numericos*"
      ],
      "metadata": {
        "id": "lo0RMz80DMYf"
      }
    },
    {
      "cell_type": "code",
      "source": [
        "print(df.describe())"
      ],
      "metadata": {
        "colab": {
          "base_uri": "https://localhost:8080/"
        },
        "id": "e2hks4CuF3wn",
        "outputId": "a94731ab-05c4-4a6f-d15e-6d6c89aa0f78"
      },
      "execution_count": 13,
      "outputs": [
        {
          "output_type": "stream",
          "name": "stdout",
          "text": [
            "                ID    ID_Cliente  Puntuacion_Credito          Edad  \\\n",
            "count  10000.00000  1.000000e+04        10000.000000  10000.000000   \n",
            "mean    5000.50000  1.569094e+07          650.528800     38.921800   \n",
            "std     2886.89568  7.193619e+04           96.653299     10.487806   \n",
            "min        1.00000  1.556570e+07          350.000000     18.000000   \n",
            "25%     2500.75000  1.562853e+07          584.000000     32.000000   \n",
            "50%     5000.50000  1.569074e+07          652.000000     37.000000   \n",
            "75%     7500.25000  1.575323e+07          718.000000     44.000000   \n",
            "max    10000.00000  1.581569e+07          850.000000     92.000000   \n",
            "\n",
            "           Tenencia          Saldo  NumProductos  TieneTarjeta  \\\n",
            "count  10000.000000   10000.000000  10000.000000   10000.00000   \n",
            "mean       5.012800   76485.889288      1.530200       0.70550   \n",
            "std        2.892174   62397.405202      0.581654       0.45584   \n",
            "min        0.000000       0.000000      1.000000       0.00000   \n",
            "25%        3.000000       0.000000      1.000000       0.00000   \n",
            "50%        5.000000   97198.540000      1.000000       1.00000   \n",
            "75%        7.000000  127644.240000      2.000000       1.00000   \n",
            "max       10.000000  250898.090000      4.000000       1.00000   \n",
            "\n",
            "       EsMiembroActivo  SalarioEstimado       Destino  \n",
            "count     10000.000000     10000.000000  10000.000000  \n",
            "mean          0.515100    100090.239881      0.203700  \n",
            "std           0.499797     57510.492818      0.402769  \n",
            "min           0.000000        11.580000      0.000000  \n",
            "25%           0.000000     51002.110000      0.000000  \n",
            "50%           1.000000    100193.915000      0.000000  \n",
            "75%           1.000000    149388.247500      0.000000  \n",
            "max           1.000000    199992.480000      1.000000  \n"
          ]
        }
      ]
    },
    {
      "cell_type": "markdown",
      "source": [
        "*Veamos los clientes que tienen el puntaje de credito menor que la media*"
      ],
      "metadata": {
        "id": "bYWs1uXxB5s9"
      }
    },
    {
      "cell_type": "code",
      "source": [
        "print(df[df['Puntuacion_Credito'] < 652])"
      ],
      "metadata": {
        "colab": {
          "base_uri": "https://localhost:8080/"
        },
        "id": "jxbdb64Z7RJm",
        "outputId": "9e7a678f-0190-411b-bfc4-6ce12f5ee37c"
      },
      "execution_count": 19,
      "outputs": [
        {
          "output_type": "stream",
          "name": "stdout",
          "text": [
            "        ID  ID_Cliente        Apellido  Puntuacion_Credito      Pais  \\\n",
            "0        1    15634602        Hargrave                 619   Francia   \n",
            "1        2    15647311            Hill                 608    España   \n",
            "2        3    15619304            Onio                 502   Francia   \n",
            "5        6    15574012             Chu                 645    España   \n",
            "7        8    15656148          Obinna                 376  Alemania   \n",
            "...    ...         ...             ...                 ...       ...   \n",
            "9984  9985    15696175  Echezonachukwu                 602  Alemania   \n",
            "9987  9988    15588839         Mancini                 606    España   \n",
            "9991  9992    15769959     Ajuluchukwu                 597   Francia   \n",
            "9993  9994    15569266          Rahman                 644   Francia   \n",
            "9996  9997    15569892       Johnstone                 516   Francia   \n",
            "\n",
            "         Genero  Edad  Tenencia      Saldo  NumProductos  TieneTarjeta  \\\n",
            "0      Femenino    42         2       0.00             1             1   \n",
            "1      Femenino    41         1   83807.86             1             0   \n",
            "2      Femenino    42         8  159660.80             3             1   \n",
            "5     Masculino    44         8  113755.78             2             1   \n",
            "7      Femenino    29         4  115046.74             4             1   \n",
            "...         ...   ...       ...        ...           ...           ...   \n",
            "9984  Masculino    35         7   90602.42             2             1   \n",
            "9987  Masculino    30         8  180307.73             2             1   \n",
            "9991   Femenino    53         4   88381.21             1             1   \n",
            "9993  Masculino    28         7  155060.41             1             1   \n",
            "9996  Masculino    35        10   57369.61             1             1   \n",
            "\n",
            "      EsMiembroActivo  SalarioEstimado  Destino  \n",
            "0                   1        101348.88        1  \n",
            "1                   1        112542.58        0  \n",
            "2                   0        113931.57        1  \n",
            "5                   0        149756.71        1  \n",
            "7                   0        119346.88        1  \n",
            "...               ...              ...      ...  \n",
            "9984                1         51695.41        0  \n",
            "9987                1          1914.41        0  \n",
            "9991                0         69384.71        1  \n",
            "9993                0         29179.52        0  \n",
            "9996                1        101699.77        0  \n",
            "\n",
            "[4987 rows x 14 columns]\n"
          ]
        }
      ]
    },
    {
      "cell_type": "code",
      "source": [
        "print(df[df['Puntuacion_Credito'] < 652].describe())"
      ],
      "metadata": {
        "colab": {
          "base_uri": "https://localhost:8080/"
        },
        "id": "7FZxNcpF_-Ba",
        "outputId": "59425f9b-1c06-4bd7-9765-cf663fe9f8e3"
      },
      "execution_count": 18,
      "outputs": [
        {
          "output_type": "stream",
          "name": "stdout",
          "text": [
            "                ID    ID_Cliente  Puntuacion_Credito         Edad  \\\n",
            "count  4987.000000  4.987000e+03         4987.000000  4987.000000   \n",
            "mean   5007.285743  1.569080e+07          571.952677    38.973732   \n",
            "std    2871.843459  7.182532e+04           58.047847    10.377526   \n",
            "min       1.000000  1.556571e+07          350.000000    18.000000   \n",
            "25%    2542.500000  1.562815e+07          534.000000    32.000000   \n",
            "50%    5022.000000  1.569068e+07          584.000000    37.000000   \n",
            "75%    7471.000000  1.575323e+07          619.000000    44.000000   \n",
            "max    9997.000000  1.581569e+07          651.000000    88.000000   \n",
            "\n",
            "          Tenencia          Saldo  NumProductos  TieneTarjeta  \\\n",
            "count  4987.000000    4987.000000   4987.000000   4987.000000   \n",
            "mean      5.021456   76064.304542      1.529577      0.710046   \n",
            "std       2.883509   62359.386597      0.586721      0.453786   \n",
            "min       0.000000       0.000000      1.000000      0.000000   \n",
            "25%       3.000000       0.000000      1.000000      0.000000   \n",
            "50%       5.000000   96652.860000      1.000000      1.000000   \n",
            "75%       7.000000  127843.675000      2.000000      1.000000   \n",
            "max      10.000000  238387.560000      4.000000      1.000000   \n",
            "\n",
            "       EsMiembroActivo  SalarioEstimado      Destino  \n",
            "count      4987.000000      4987.000000  4987.000000  \n",
            "mean          0.504111     99769.090006     0.215360  \n",
            "std           0.500033     57308.648873     0.411113  \n",
            "min           0.000000        90.070000     0.000000  \n",
            "25%           0.000000     51439.175000     0.000000  \n",
            "50%           1.000000    100507.810000     0.000000  \n",
            "75%           1.000000    148228.510000     0.000000  \n",
            "max           1.000000    199970.740000     1.000000  \n"
          ]
        }
      ]
    },
    {
      "cell_type": "markdown",
      "source": [
        "Vamos a concentrarnos en la primer pregunta y su hipotesis para realizar los primeros graficos\n",
        "\n",
        "**1- ¿Qué características demográficas (edad, género, ubicación) están asociadas con una mayor probabilidad de abandono?**"
      ],
      "metadata": {
        "id": "gcHPUiKgTmjW"
      }
    },
    {
      "cell_type": "code",
      "source": [
        "import seaborn as sns\n",
        "import matplotlib.pyplot as plt"
      ],
      "metadata": {
        "id": "p_G26IsqUOm5"
      },
      "execution_count": 26,
      "outputs": []
    },
    {
      "cell_type": "markdown",
      "source": [
        "HIPOTESIS 1: Los clientes más jóvenes tienen una mayor probabilidad de abandono debido a su menor fidelidad hacia las instituciones financieras."
      ],
      "metadata": {
        "id": "KMo94_ENUXLF"
      }
    },
    {
      "cell_type": "markdown",
      "source": [
        "*Elegimos Boxplot porque muestra la distribución completa de edades para cada grupo (clientes que se fueron vs. los que se quedaron), incluyendo mediana y posibles outliers.*\n",
        "\n",
        "*Ayuda a detectar si los clientes que abandonan tienden a tener una edad menor, lo cual respaldaría mi hipótesis.*"
      ],
      "metadata": {
        "id": "D70323cNW4Pj"
      }
    },
    {
      "cell_type": "code",
      "source": [
        "#Destino: Si el cliente salió del banco (1 para Sí, 0 para No)\n",
        "sns.boxplot(data=df, x='Destino', y='Edad', hue='Destino')\n",
        "plt.show()"
      ],
      "metadata": {
        "colab": {
          "base_uri": "https://localhost:8080/",
          "height": 449
        },
        "id": "g9xf7dtvUUX6",
        "outputId": "4f25eda8-f40d-46dc-e40f-ffc9d68ef0a2"
      },
      "execution_count": 37,
      "outputs": [
        {
          "output_type": "display_data",
          "data": {
            "text/plain": [
              "<Figure size 640x480 with 1 Axes>"
            ],
            "image/png": "[encoded data removed]"
          },
          "metadata": {}
        }
      ]
    },
    {
      "cell_type": "markdown",
      "source": [
        "La mediana de edad es más alta entre quienes abandonan. Esto desafía mi hipótesis: los clientes más jóvenes no parecen ser quienes más abandonan.\n",
        "\n",
        "El grupo que permanece tiene más dispersión de edad y outliers longevos, lo que podría indicar mayor fidelidad en clientes mayores.\n",
        "\n",
        "El outlier juvenil en Destino = 1 confirma que hay casos jóvenes, pero no suficientes como para mover la mediana.\n",
        "\n",
        "Puede que la rotación no esté en los \"jóvenes\", se podría analizar por rangos, haciendo hincapié entre los 30 y 60 años."
      ],
      "metadata": {
        "id": "PDJfLWeKYmz3"
      }
    },
    {
      "cell_type": "markdown",
      "source": [
        "................................................................................................................................................................"
      ],
      "metadata": {
        "id": "V16hyIpPbfrX"
      }
    },
    {
      "cell_type": "markdown",
      "source": [
        "HIPÓTESIS 2: No existen diferencias significativas en la tasa de abandono entre géneros.\n",
        "\n",
        "*Elegimos barras porque son la mejor forma de mostrar proporciones comparativas entre categorías, en este caso queremos saber cómo varía el abandono según el género.*"
      ],
      "metadata": {
        "id": "_0FYOrgfbcid"
      }
    },
    {
      "cell_type": "code",
      "source": [
        "sns.barplot(data=df, x='Genero', y='Destino', hue='Genero', estimator=lambda x:sum(x)/len(x))\n",
        "plt.show()"
      ],
      "metadata": {
        "colab": {
          "base_uri": "https://localhost:8080/",
          "height": 449
        },
        "id": "rMfApgBab6EF",
        "outputId": "71cf7fca-7e1c-4a09-ceb9-5ded473a0c73"
      },
      "execution_count": 43,
      "outputs": [
        {
          "output_type": "display_data",
          "data": {
            "text/plain": [
              "<Figure size 640x480 with 1 Axes>"
            ],
            "image/png": "[encoded data removed]"
          },
          "metadata": {}
        }
      ]
    },
    {
      "cell_type": "markdown",
      "source": [
        "Las barras están bastante parejas en altura, lo que visualmente sugiere que la tasa de abandono es similar para cada género."
      ],
      "metadata": {
        "id": "uHi1DdO5ehQS"
      }
    },
    {
      "cell_type": "markdown",
      "source": [
        "................................................................................................................................................................"
      ],
      "metadata": {
        "id": "nyicUVNeer_n"
      }
    },
    {
      "cell_type": "markdown",
      "source": [
        "HIPÓTESIS 3: Los clientes que residen en España presentan una mayor tasa de abandono en comparación con los de Francia y Alemania, posiblemente debido a diferencias en la competencia bancaria o características socioeconómicas propias del país\n",
        "\n",
        "*Elegimos barras por el mismo motivo que la hipótesis anterior, porque necesitamos generar categorías con los países*"
      ],
      "metadata": {
        "id": "dLxC6xuOetV7"
      }
    },
    {
      "cell_type": "code",
      "source": [
        "sns.barplot(x='Pais', y='Destino', data=df[df['Pais'].isin(['España', 'Francia', 'Alemania'])], estimator=lambda x:sum(x)/len(x), hue='Pais')\n",
        "plt.show()"
      ],
      "metadata": {
        "colab": {
          "base_uri": "https://localhost:8080/",
          "height": 449
        },
        "id": "gyig3YkngJvc",
        "outputId": "9d61f3dc-9fc8-45be-9e47-13d09da1577d"
      },
      "execution_count": 44,
      "outputs": [
        {
          "output_type": "display_data",
          "data": {
            "text/plain": [
              "<Figure size 640x480 with 1 Axes>"
            ],
            "image/png": "[encoded data removed]"
          },
          "metadata": {}
        }
      ]
    },
    {
      "cell_type": "markdown",
      "source": [
        "Visualmente, Alemania tiene la tasa más alta de abandono, Francia y España están mucho más abajo.\n",
        "\n",
        "Esto contradice mi hipótesis. Alemania podría ser el país con mayor tasa de abandono."
      ],
      "metadata": {
        "id": "2bYW2aoKhEhL"
      }
    }
  ]
}